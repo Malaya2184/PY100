{
 "metadata": {
  "language_info": {
   "codemirror_mode": {
    "name": "ipython",
    "version": 3
   },
   "file_extension": ".py",
   "mimetype": "text/x-python",
   "name": "python",
   "nbconvert_exporter": "python",
   "pygments_lexer": "ipython3",
   "version": "3.8.3-final"
  },
  "orig_nbformat": 2,
  "kernelspec": {
   "name": "python3",
   "display_name": "Python 3"
  }
 },
 "nbformat": 4,
 "nbformat_minor": 2,
 "cells": [
  {
   "cell_type": "code",
   "execution_count": 54,
   "metadata": {
    "tags": []
   },
   "outputs": [],
   "source": [
    "# printing of the sudoku board to the console\n",
    "# import numpy as np\n",
    "board = [\n",
    "    [7,8,0,4,0,0,1,2,0],\n",
    "    [6,0,0,0,7,5,0,0,9],\n",
    "    [0,0,0,6,0,1,0,7,8],\n",
    "    [0,0,7,0,4,0,2,6,0],\n",
    "    [0,0,1,0,5,0,9,3,0],\n",
    "    [9,0,4,0,6,0,0,0,5],\n",
    "    [0,7,0,3,0,0,0,1,2],\n",
    "    [1,2,0,0,0,7,4,0,0],\n",
    "    [0,4,9,2,0,6,0,0,7]\n",
    "]\n",
    "# print(np.matrix(board))\n",
    "# print(len(board))\n",
    "def print_board(bo):\n",
    "    \n",
    "    for i in range(len(bo)):\n",
    "        if i % 3 == 0 and  i !=0:\n",
    "            print('- - - - - - - - - - -')\n",
    "\n",
    "        for  j in range(len(bo)):\n",
    "            if j % 3 == 0 and j !=0:\n",
    "                print('|', end=\" \")\n",
    "            if j == 8:\n",
    "                print(bo[i][j])\n",
    "            else:\n",
    "                print(bo[i][j], end=\" \")"
   ]
  },
  {
   "cell_type": "code",
   "execution_count": 59,
   "metadata": {
    "tags": []
   },
   "outputs": [
    {
     "output_type": "stream",
     "name": "stdout",
     "text": "7 8 0 | 4 0 0 | 1 2 0\n6 0 0 | 0 7 5 | 0 0 9\n0 0 0 | 6 0 1 | 0 7 8\n- - - - - - - - - - -\n0 0 7 | 0 4 0 | 2 6 0\n0 0 1 | 0 5 0 | 9 3 0\n9 0 4 | 0 6 0 | 0 0 5\n- - - - - - - - - - -\n0 7 0 | 3 0 0 | 0 1 2\n1 2 0 | 0 0 7 | 4 0 0\n0 4 9 | 2 0 6 | 0 0 7\n"
    }
   ],
   "source": [
    "print_board(board)"
   ]
  },
  {
   "cell_type": "code",
   "execution_count": null,
   "metadata": {},
   "outputs": [],
   "source": []
  }
 ]
}