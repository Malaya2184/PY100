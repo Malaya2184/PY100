{
 "metadata": {
  "language_info": {
   "codemirror_mode": {
    "name": "ipython",
    "version": 3
   },
   "file_extension": ".py",
   "mimetype": "text/x-python",
   "name": "python",
   "nbconvert_exporter": "python",
   "pygments_lexer": "ipython3",
   "version": "3.8.3-final"
  },
  "orig_nbformat": 2,
  "kernelspec": {
   "name": "Python 3.8.3 64-bit ('Anaconda3': conda)",
   "display_name": "Python 3.8.3 64-bit ('Anaconda3': conda)",
   "metadata": {
    "interpreter": {
     "hash": "c0f70214c0dd213f07f54ee5d6e0ea644bdbba35113c9bfe8aaa0d1db03ad5dd"
    }
   }
  }
 },
 "nbformat": 4,
 "nbformat_minor": 2,
 "cells": [
  {
   "cell_type": "code",
   "execution_count": 9,
   "metadata": {},
   "outputs": [
    {
     "output_type": "execute_result",
     "data": {
      "text/plain": "{'first': ['malaya', 'abinash', 'premanana'],\n 'last': ['swain', 'patra', 'pati'],\n 'email': ['malayakumarswain8@gmail.com',\n  'aabinashpatra@gmail.com',\n  'premanandapati3@gmail.com']}"
     },
     "metadata": {},
     "execution_count": 9
    }
   ],
   "source": [
    "people = {\n",
    "    'first': ['malaya', 'abinash', 'premanana'],\n",
    "    'last': ['swain', 'patra', 'pati'],\n",
    "    'email': ['malayakumarswain8@gmail.com', 'aabinashpatra@gmail.com', 'premanandapati3@gmail.com']\n",
    "}\n",
    "people"
   ]
  },
  {
   "cell_type": "code",
   "execution_count": 10,
   "metadata": {},
   "outputs": [
    {
     "output_type": "execute_result",
     "data": {
      "text/plain": "['malayakumarswain8@gmail.com',\n 'aabinashpatra@gmail.com',\n 'premanandapati3@gmail.com']"
     },
     "metadata": {},
     "execution_count": 10
    }
   ],
   "source": [
    "people['email']"
   ]
  },
  {
   "cell_type": "code",
   "execution_count": 14,
   "metadata": {},
   "outputs": [
    {
     "output_type": "execute_result",
     "data": {
      "text/plain": "       first   last                        email\n0     malaya  swain  malayakumarswain8@gmail.com\n1    abinash  patra      aabinashpatra@gmail.com\n2  premanana   pati    premanandapati3@gmail.com",
      "text/html": "<div>\n<style scoped>\n    .dataframe tbody tr th:only-of-type {\n        vertical-align: middle;\n    }\n\n    .dataframe tbody tr th {\n        vertical-align: top;\n    }\n\n    .dataframe thead th {\n        text-align: right;\n    }\n</style>\n<table border=\"1\" class=\"dataframe\">\n  <thead>\n    <tr style=\"text-align: right;\">\n      <th></th>\n      <th>first</th>\n      <th>last</th>\n      <th>email</th>\n    </tr>\n  </thead>\n  <tbody>\n    <tr>\n      <th>0</th>\n      <td>malaya</td>\n      <td>swain</td>\n      <td>malayakumarswain8@gmail.com</td>\n    </tr>\n    <tr>\n      <th>1</th>\n      <td>abinash</td>\n      <td>patra</td>\n      <td>aabinashpatra@gmail.com</td>\n    </tr>\n    <tr>\n      <th>2</th>\n      <td>premanana</td>\n      <td>pati</td>\n      <td>premanandapati3@gmail.com</td>\n    </tr>\n  </tbody>\n</table>\n</div>"
     },
     "metadata": {},
     "execution_count": 14
    }
   ],
   "source": [
    "import pandas as pd\n",
    "df = pd.DataFrame(people)\n",
    "df"
   ]
  },
  {
   "cell_type": "code",
   "execution_count": 18,
   "metadata": {},
   "outputs": [
    {
     "output_type": "execute_result",
     "data": {
      "text/plain": "0    malayakumarswain8@gmail.com\n1        aabinashpatra@gmail.com\n2      premanandapati3@gmail.com\nName: email, dtype: object"
     },
     "metadata": {},
     "execution_count": 18
    }
   ],
   "source": [
    "df['email']\n",
    "# df['email'] == df.email  (not recommanded)"
   ]
  },
  {
   "cell_type": "code",
   "execution_count": 19,
   "metadata": {},
   "outputs": [
    {
     "output_type": "execute_result",
     "data": {
      "text/plain": "0    malayakumarswain8@gmail.com\n1        aabinashpatra@gmail.com\n2      premanandapati3@gmail.com\nName: email, dtype: object"
     },
     "metadata": {},
     "execution_count": 19
    }
   ],
   "source": [
    "df.email"
   ]
  },
  {
   "cell_type": "code",
   "execution_count": 17,
   "metadata": {},
   "outputs": [
    {
     "output_type": "execute_result",
     "data": {
      "text/plain": "pandas.core.series.Series"
     },
     "metadata": {},
     "execution_count": 17
    }
   ],
   "source": [
    "type(df['email'])\n",
    "# i.e data frames returns series not list because series are the single column of rows"
   ]
  },
  {
   "cell_type": "code",
   "execution_count": 20,
   "metadata": {},
   "outputs": [
    {
     "output_type": "execute_result",
     "data": {
      "text/plain": "    last                        email\n0  swain  malayakumarswain8@gmail.com\n1  patra      aabinashpatra@gmail.com\n2   pati    premanandapati3@gmail.com",
      "text/html": "<div>\n<style scoped>\n    .dataframe tbody tr th:only-of-type {\n        vertical-align: middle;\n    }\n\n    .dataframe tbody tr th {\n        vertical-align: top;\n    }\n\n    .dataframe thead th {\n        text-align: right;\n    }\n</style>\n<table border=\"1\" class=\"dataframe\">\n  <thead>\n    <tr style=\"text-align: right;\">\n      <th></th>\n      <th>last</th>\n      <th>email</th>\n    </tr>\n  </thead>\n  <tbody>\n    <tr>\n      <th>0</th>\n      <td>swain</td>\n      <td>malayakumarswain8@gmail.com</td>\n    </tr>\n    <tr>\n      <th>1</th>\n      <td>patra</td>\n      <td>aabinashpatra@gmail.com</td>\n    </tr>\n    <tr>\n      <th>2</th>\n      <td>pati</td>\n      <td>premanandapati3@gmail.com</td>\n    </tr>\n  </tbody>\n</table>\n</div>"
     },
     "metadata": {},
     "execution_count": 20
    }
   ],
   "source": [
    "df[['last','email']]"
   ]
  },
  {
   "cell_type": "code",
   "execution_count": 23,
   "metadata": {},
   "outputs": [
    {
     "output_type": "execute_result",
     "data": {
      "text/plain": "pandas.core.frame.DataFrame"
     },
     "metadata": {},
     "execution_count": 23
    }
   ],
   "source": [
    "type(df[['last','email']])\n",
    "# it is not a series(multiple column of rows) it is a frame"
   ]
  }
 ]
}