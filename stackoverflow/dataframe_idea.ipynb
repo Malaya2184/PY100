{
 "metadata": {
  "language_info": {
   "codemirror_mode": {
    "name": "ipython",
    "version": 3
   },
   "file_extension": ".py",
   "mimetype": "text/x-python",
   "name": "python",
   "nbconvert_exporter": "python",
   "pygments_lexer": "ipython3",
   "version": "3.8.3-final"
  },
  "orig_nbformat": 2,
  "kernelspec": {
   "name": "Python 3.8.3 64-bit ('Anaconda3': conda)",
   "display_name": "Python 3.8.3 64-bit ('Anaconda3': conda)",
   "metadata": {
    "interpreter": {
     "hash": "c0f70214c0dd213f07f54ee5d6e0ea644bdbba35113c9bfe8aaa0d1db03ad5dd"
    }
   }
  }
 },
 "nbformat": 4,
 "nbformat_minor": 2,
 "cells": [
  {
   "cell_type": "code",
   "execution_count": 9,
   "metadata": {},
   "outputs": [
    {
     "output_type": "execute_result",
     "data": {
      "text/plain": "{'first': ['malaya', 'abinash', 'premanana'],\n 'last': ['swain', 'patra', 'pati'],\n 'email': ['malayakumarswain8@gmail.com',\n  'aabinashpatra@gmail.com',\n  'premanandapati3@gmail.com']}"
     },
     "metadata": {},
     "execution_count": 9
    }
   ],
   "source": [
    "people = {\n",
    "    'first': ['malaya', 'abinash', 'premanana'],\n",
    "    'last': ['swain', 'patra', 'pati'],\n",
    "    'email': ['malayakumarswain8@gmail.com', 'aabinashpatra@gmail.com', 'premanandapati3@gmail.com']\n",
    "}\n",
    "people"
   ]
  },
  {
   "cell_type": "code",
   "execution_count": 10,
   "metadata": {},
   "outputs": [
    {
     "output_type": "execute_result",
     "data": {
      "text/plain": "['malayakumarswain8@gmail.com',\n 'aabinashpatra@gmail.com',\n 'premanandapati3@gmail.com']"
     },
     "metadata": {},
     "execution_count": 10
    }
   ],
   "source": [
    "people['email']"
   ]
  },
  {
   "cell_type": "code",
   "execution_count": 12,
   "metadata": {},
   "outputs": [
    {
     "output_type": "execute_result",
     "data": {
      "text/plain": "       first   last                        email\n0     malaya  swain  malayakumarswain8@gmail.com\n1    abinash  patra      aabinashpatra@gmail.com\n2  premanana   pati    premanandapati3@gmail.com",
      "text/html": "<div>\n<style scoped>\n    .dataframe tbody tr th:only-of-type {\n        vertical-align: middle;\n    }\n\n    .dataframe tbody tr th {\n        vertical-align: top;\n    }\n\n    .dataframe thead th {\n        text-align: right;\n    }\n</style>\n<table border=\"1\" class=\"dataframe\">\n  <thead>\n    <tr style=\"text-align: right;\">\n      <th></th>\n      <th>first</th>\n      <th>last</th>\n      <th>email</th>\n    </tr>\n  </thead>\n  <tbody>\n    <tr>\n      <th>0</th>\n      <td>malaya</td>\n      <td>swain</td>\n      <td>malayakumarswain8@gmail.com</td>\n    </tr>\n    <tr>\n      <th>1</th>\n      <td>abinash</td>\n      <td>patra</td>\n      <td>aabinashpatra@gmail.com</td>\n    </tr>\n    <tr>\n      <th>2</th>\n      <td>premanana</td>\n      <td>pati</td>\n      <td>premanandapati3@gmail.com</td>\n    </tr>\n  </tbody>\n</table>\n</div>"
     },
     "metadata": {},
     "execution_count": 12
    }
   ],
   "source": [
    "import pandas as pd\n",
    "df = pd.DataFrame(people)\n",
    "df"
   ]
  }
 ]
}