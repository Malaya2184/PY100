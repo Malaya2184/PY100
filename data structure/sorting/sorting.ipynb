{
 "metadata": {
  "language_info": {
   "codemirror_mode": {
    "name": "ipython",
    "version": 3
   },
   "file_extension": ".py",
   "mimetype": "text/x-python",
   "name": "python",
   "nbconvert_exporter": "python",
   "pygments_lexer": "ipython3",
   "version": "3.8.3-final"
  },
  "orig_nbformat": 2,
  "kernelspec": {
   "name": "python3",
   "display_name": "Python 3"
  }
 },
 "nbformat": 4,
 "nbformat_minor": 2,
 "cells": [
  {
   "cell_type": "code",
   "execution_count": 10,
   "metadata": {},
   "outputs": [],
   "source": [
    "# selection shot algorithm\n",
    "def selection_sort(list):\n",
    "    for i in range(len(list)):\n",
    "        min_index = i\n",
    "        for j in range(i+1, len(list)):\n",
    "            if list[min_index]>list[j]:\n",
    "                min_index= j\n",
    "\n",
    "        list[i],list[min_index]=list[min_index], list[i]\n",
    "    return list\n",
    "\n",
    "# TODO: It is not an efficent program for the solution\n",
    "# quickshot algorithm\n",
    "def quick_short(list):\n",
    "    length_of_list = len(list)\n",
    "    if length_of_list <= 1:\n",
    "        return list\n",
    "    else:\n",
    "        pivot = list.pop()\n",
    "        \n",
    "    pivot_grearer =[]\n",
    "    pivot_smaller =[]\n",
    "    for i in list:\n",
    "        if i > pivot:\n",
    "            pivot_grearer.append(i)\n",
    "        else:\n",
    "            pivot_smaller.append(i)\n",
    "    return quick_short(pivot_smaller) + [pivot] + quick_short(pivot_grearer)\n",
    "# Bubble sort algorithm\n",
    "def bubble_sort(list):\n",
    "    iteration_length = len(list) - 1\n",
    "    sorted = False\n",
    "\n",
    "    while not sorted:\n",
    "        sorted = True\n",
    "\n",
    "        for i in range(iteration_length):\n",
    "            if list[i] > list[i+1]:\n",
    "                sorted = False\n",
    "                list[i], list[i+1] = list[i+1], list[i]\n",
    "\n",
    "    return list\n",
    "\n",
    "# insertion shot algorithm\n",
    "def insertion_sort(list):\n",
    "    for i in range(1, len(list)):\n",
    "        while list[i-1] > list[i] and i>0:\n",
    "            list[i-1],list[i] = list[i], list[i-1]\n",
    "            i = i-1\n",
    "    \n",
    "    return list\n",
    "\n",
    "# Merge sort algoruthm\n",
    "    # merge sort for two sorted array\n",
    "def merge_two_sorted_list(list1, list2):\n",
    "    sorted_list= []\n",
    "    i =0\n",
    "    j =0\n",
    "    while i< len(list1) and j< len(list2):\n",
    "        if list1[i] < list2[j]:\n",
    "            sorted.append(list1[i])\n",
    "            i += 1\n",
    "\n",
    "        else:\n",
    "            sorted.append(list2[j])\n",
    "            j += 1\n",
    "\n",
    "    return sorted_list"
   ]
  },
  {
   "cell_type": "code",
   "execution_count": 14,
   "metadata": {},
   "outputs": [
    {
     "output_type": "stream",
     "name": "stdout",
     "text": [
      "[0, 1, 2, 2, 3, 3, 4, 5, 5, 7, 8, 31, 67, 90, 567]\n[0, 1, 2, 2, 3, 3, 4, 5, 5, 7, 8, 31, 67, 90, 567]\n[0, 1, 2, 2, 3, 3, 4, 5, 5, 7, 8, 31, 67, 90, 567]\n[0, 1, 2, 2, 3, 3, 4, 5, 5, 7, 8, 31, 67, 90, 567]\n"
     ]
    },
    {
     "output_type": "error",
     "ename": "AttributeError",
     "evalue": "'builtin_function_or_method' object has no attribute 'append'",
     "traceback": [
      "\u001b[1;31m---------------------------------------------------------------------------\u001b[0m",
      "\u001b[1;31mAttributeError\u001b[0m                            Traceback (most recent call last)",
      "\u001b[1;32m<ipython-input-14-ac809862c46a>\u001b[0m in \u001b[0;36m<module>\u001b[1;34m\u001b[0m\n\u001b[0;32m      6\u001b[0m     \u001b[0mprint\u001b[0m\u001b[1;33m(\u001b[0m\u001b[0mbubble_sort\u001b[0m\u001b[1;33m(\u001b[0m\u001b[1;33m[\u001b[0m\u001b[1;36m3\u001b[0m\u001b[1;33m,\u001b[0m\u001b[1;36m4\u001b[0m\u001b[1;33m,\u001b[0m\u001b[1;36m5\u001b[0m\u001b[1;33m,\u001b[0m\u001b[1;36m1\u001b[0m\u001b[1;33m,\u001b[0m\u001b[1;36m2\u001b[0m\u001b[1;33m,\u001b[0m\u001b[1;36m3\u001b[0m\u001b[1;33m,\u001b[0m\u001b[1;36m0\u001b[0m\u001b[1;33m,\u001b[0m\u001b[1;36m7\u001b[0m\u001b[1;33m,\u001b[0m\u001b[1;36m8\u001b[0m\u001b[1;33m,\u001b[0m\u001b[1;36m90\u001b[0m\u001b[1;33m,\u001b[0m\u001b[1;36m67\u001b[0m\u001b[1;33m,\u001b[0m\u001b[1;36m31\u001b[0m\u001b[1;33m,\u001b[0m\u001b[1;36m2\u001b[0m\u001b[1;33m,\u001b[0m\u001b[1;36m5\u001b[0m\u001b[1;33m,\u001b[0m\u001b[1;36m567\u001b[0m\u001b[1;33m]\u001b[0m\u001b[1;33m)\u001b[0m\u001b[1;33m)\u001b[0m\u001b[1;33m\u001b[0m\u001b[1;33m\u001b[0m\u001b[0m\n\u001b[0;32m      7\u001b[0m     \u001b[0mprint\u001b[0m\u001b[1;33m(\u001b[0m\u001b[0minsertion_sort\u001b[0m\u001b[1;33m(\u001b[0m\u001b[1;33m[\u001b[0m\u001b[1;36m3\u001b[0m\u001b[1;33m,\u001b[0m\u001b[1;36m4\u001b[0m\u001b[1;33m,\u001b[0m\u001b[1;36m5\u001b[0m\u001b[1;33m,\u001b[0m\u001b[1;36m1\u001b[0m\u001b[1;33m,\u001b[0m\u001b[1;36m2\u001b[0m\u001b[1;33m,\u001b[0m\u001b[1;36m3\u001b[0m\u001b[1;33m,\u001b[0m\u001b[1;36m0\u001b[0m\u001b[1;33m,\u001b[0m\u001b[1;36m7\u001b[0m\u001b[1;33m,\u001b[0m\u001b[1;36m8\u001b[0m\u001b[1;33m,\u001b[0m\u001b[1;36m90\u001b[0m\u001b[1;33m,\u001b[0m\u001b[1;36m67\u001b[0m\u001b[1;33m,\u001b[0m\u001b[1;36m31\u001b[0m\u001b[1;33m,\u001b[0m\u001b[1;36m2\u001b[0m\u001b[1;33m,\u001b[0m\u001b[1;36m5\u001b[0m\u001b[1;33m,\u001b[0m\u001b[1;36m567\u001b[0m\u001b[1;33m]\u001b[0m\u001b[1;33m)\u001b[0m\u001b[1;33m)\u001b[0m\u001b[1;33m\u001b[0m\u001b[1;33m\u001b[0m\u001b[0m\n\u001b[1;32m----> 8\u001b[1;33m     \u001b[0mprint\u001b[0m\u001b[1;33m(\u001b[0m\u001b[0mmerge_two_sorted_list\u001b[0m\u001b[1;33m(\u001b[0m\u001b[1;33m[\u001b[0m\u001b[1;36m3\u001b[0m\u001b[1;33m,\u001b[0m \u001b[1;36m4\u001b[0m\u001b[1;33m,\u001b[0m \u001b[1;36m5\u001b[0m\u001b[1;33m,\u001b[0m \u001b[1;36m5\u001b[0m\u001b[1;33m,\u001b[0m \u001b[1;36m7\u001b[0m\u001b[1;33m,\u001b[0m \u001b[1;36m8\u001b[0m\u001b[1;33m,\u001b[0m \u001b[1;36m31\u001b[0m\u001b[1;33m,\u001b[0m \u001b[1;36m67\u001b[0m\u001b[1;33m]\u001b[0m\u001b[1;33m,\u001b[0m\u001b[1;33m[\u001b[0m\u001b[1;36m0\u001b[0m\u001b[1;33m,\u001b[0m \u001b[1;36m1\u001b[0m\u001b[1;33m,\u001b[0m \u001b[1;36m2\u001b[0m\u001b[1;33m,\u001b[0m \u001b[1;36m2\u001b[0m\u001b[1;33m,\u001b[0m \u001b[1;36m3\u001b[0m\u001b[1;33m,\u001b[0m \u001b[1;36m90\u001b[0m\u001b[1;33m,\u001b[0m \u001b[1;36m567\u001b[0m\u001b[1;33m]\u001b[0m\u001b[1;33m)\u001b[0m\u001b[1;33m)\u001b[0m\u001b[1;33m\u001b[0m\u001b[1;33m\u001b[0m\u001b[0m\n\u001b[0m",
      "\u001b[1;32m<ipython-input-10-60794902e26d>\u001b[0m in \u001b[0;36mmerge_two_sorted_list\u001b[1;34m(list1, list2)\u001b[0m\n\u001b[0;32m     63\u001b[0m \u001b[1;33m\u001b[0m\u001b[0m\n\u001b[0;32m     64\u001b[0m         \u001b[1;32melse\u001b[0m\u001b[1;33m:\u001b[0m\u001b[1;33m\u001b[0m\u001b[1;33m\u001b[0m\u001b[0m\n\u001b[1;32m---> 65\u001b[1;33m             \u001b[0msorted\u001b[0m\u001b[1;33m.\u001b[0m\u001b[0mappend\u001b[0m\u001b[1;33m(\u001b[0m\u001b[0mlist2\u001b[0m\u001b[1;33m[\u001b[0m\u001b[0mj\u001b[0m\u001b[1;33m]\u001b[0m\u001b[1;33m)\u001b[0m\u001b[1;33m\u001b[0m\u001b[1;33m\u001b[0m\u001b[0m\n\u001b[0m\u001b[0;32m     66\u001b[0m             \u001b[0mj\u001b[0m \u001b[1;33m+=\u001b[0m \u001b[1;36m1\u001b[0m\u001b[1;33m\u001b[0m\u001b[1;33m\u001b[0m\u001b[0m\n\u001b[0;32m     67\u001b[0m \u001b[1;33m\u001b[0m\u001b[0m\n",
      "\u001b[1;31mAttributeError\u001b[0m: 'builtin_function_or_method' object has no attribute 'append'"
     ]
    }
   ],
   "source": [
    "if __name__== '__main__':\n",
    "    #####################################################################\n",
    "    # list = [3,4,5,1,2,3,0,7,8,90,67,31,2,5,567]\n",
    "    print(selection_sort([3,4,5,1,2,3,0,7,8,90,67,31,2,5,567]))\n",
    "    print(quick_short([3,4,5,1,2,3,0,7,8,90,67,31,2,5,567]))\n",
    "    print(bubble_sort([3,4,5,1,2,3,0,7,8,90,67,31,2,5,567]))\n",
    "    print(insertion_sort([3,4,5,1,2,3,0,7,8,90,67,31,2,5,567]))\n",
    "    print(merge_two_sorted_list([3, 4, 5, 5, 7, 8, 31, 67],[0, 1, 2, 2, 3, 90, 567]))"
   ]
  }
 ]
}