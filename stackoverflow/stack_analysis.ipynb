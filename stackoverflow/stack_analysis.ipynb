{
 "metadata": {
  "language_info": {
   "codemirror_mode": {
    "name": "ipython",
    "version": 3
   },
   "file_extension": ".py",
   "mimetype": "text/x-python",
   "name": "python",
   "nbconvert_exporter": "python",
   "pygments_lexer": "ipython3",
   "version": "3.8.3-final"
  },
  "orig_nbformat": 2,
  "kernelspec": {
   "name": "Python 3.8.3 64-bit ('Anaconda3': conda)",
   "display_name": "Python 3.8.3 64-bit ('Anaconda3': conda)",
   "metadata": {
    "interpreter": {
     "hash": "c0f70214c0dd213f07f54ee5d6e0ea644bdbba35113c9bfe8aaa0d1db03ad5dd"
    }
   }
  }
 },
 "nbformat": 4,
 "nbformat_minor": 2,
 "cells": [
  {
   "cell_type": "code",
   "execution_count": null,
   "metadata": {},
   "outputs": [],
   "source": [
    "import pandas as pd"
   ]
  },
  {
   "cell_type": "code",
   "execution_count": null,
   "metadata": {},
   "outputs": [],
   "source": [
    "df = pd.read_csv('stack\\survey_results_public.csv')\n",
    "# pd.set_option('display.max_row',100)\n",
    "# max_row set too 100 to see first 100 rows\n",
    "df.head(20)\n",
    "# df.head(argument i.e no of rows) used to see no of first n no of rows\n",
    "df.tail(10)\n",
    "# tail method used to see last row data"
   ]
  },
  {
   "cell_type": "code",
   "execution_count": null,
   "metadata": {},
   "outputs": [],
   "source": [
    "df.describe()"
   ]
  },
  {
   "cell_type": "code",
   "execution_count": null,
   "metadata": {
    "tags": []
   },
   "outputs": [],
   "source": [
    "df.info()\n",
    "# object == string in this data,,,,,, printed columns"
   ]
  },
  {
   "cell_type": "code",
   "execution_count": null,
   "metadata": {},
   "outputs": [],
   "source": [
    "df.shape"
   ]
  },
  {
   "cell_type": "code",
   "execution_count": null,
   "metadata": {},
   "outputs": [],
   "source": [
    "pd.set_option('display.max_column', 61)\n",
    "# this code is used to visualize all the columns nj the data frames in cell 2 & here 61 means total no of columns i.e got from df.shape"
   ]
  },
  {
   "cell_type": "code",
   "execution_count": 59,
   "metadata": {
    "tags": []
   },
   "outputs": [
    {
     "output_type": "execute_result",
     "data": {
      "text/plain": "                          Column  \\\n0                     Respondent   \n1                     MainBranch   \n2                       Hobbyist   \n3                            Age   \n4                     Age1stCode   \n5                       CompFreq   \n6                      CompTotal   \n7                  ConvertedComp   \n8                        Country   \n9                   CurrencyDesc   \n10                CurrencySymbol   \n11        DatabaseDesireNextYear   \n12            DatabaseWorkedWith   \n13                       DevType   \n14                       EdLevel   \n15                    Employment   \n16                     Ethnicity   \n17                        Gender   \n18                    JobFactors   \n19                        JobSat   \n20                       JobSeek   \n21        LanguageDesireNextYear   \n22            LanguageWorkedWith   \n23        MiscTechDesireNextYear   \n24            MiscTechWorkedWith   \n25  NEWCollabToolsDesireNextYear   \n26      NEWCollabToolsWorkedWith   \n27                     NEWDevOps   \n28                 NEWDevOpsImpt   \n29                     NEWEdImpt   \n30                    NEWJobHunt   \n31            NEWJobHuntResearch   \n32                      NEWLearn   \n33                   NEWOffTopic   \n34                NEWOnboardGood   \n35                 NEWOtherComms   \n36                   NEWOvertime   \n37           NEWPurchaseResearch   \n38                 NEWPurpleLink   \n39                    NEWSOSites   \n40                      NEWStuck   \n41                         OpSys   \n42                       OrgSize   \n43        PlatformDesireNextYear   \n44            PlatformWorkedWith   \n45                  PurchaseWhat   \n46                     Sexuality   \n47                     SOAccount   \n48                        SOComm   \n49                    SOPartFreq   \n50                   SOVisitFreq   \n51                    SurveyEase   \n52                  SurveyLength   \n53                         Trans   \n54                UndergradMajor   \n55        WebframeDesireNextYear   \n56            WebframeWorkedWith   \n57                 WelcomeChange   \n58                   WorkWeekHrs   \n59                     YearsCode   \n60                  YearsCodePro   \n\n                                         QuestionText  \n0   Randomized respondent ID number (not in order ...  \n1   Which of the following options best describes ...  \n2                             Do you code as a hobby?  \n3   What is your age (in years)? If you prefer not...  \n4   At what age did you write your first line of c...  \n5    Is that compensation weekly, monthly, or yearly?  \n6   What is your current total compensation (salar...  \n7   Salary converted to annual USD salaries using ...  \n8                                  Where do you live?  \n9   Which currency do you use day-to-day? If your ...  \n10  Which currency do you use day-to-day? If your ...  \n11  Which database environments have you done exte...  \n12  Which database environments have you done exte...  \n13  Which of the following describe you? Please se...  \n14  Which of the following best describes the high...  \n15  Which of the following best describes your cur...  \n16  Which of the following describe you, if any? P...  \n17  Which of the following describe you, if any? P...  \n18  Imagine that you are deciding between two job ...  \n19  How satisfied are you with your current job? (...  \n20  Which of the following best describes your cur...  \n21  Which programming, scripting, and markup langu...  \n22  Which programming, scripting, and markup langu...  \n23  Which other frameworks, libraries, and tools h...  \n24  Which other frameworks, libraries, and tools h...  \n25  Which collaboration tools have you done extens...  \n26  Which collaboration tools have you done extens...  \n27  Does your company have a dedicated DevOps person?  \n28  How important is the practice of DevOps to sca...  \n29  How important is a formal education, such as a...  \n30  In general, what drives you to look for a new ...  \n31  When job searching, how do you learn more abou...  \n32  How frequently do you learn a new language or ...  \n33  Do you think Stack Overflow should relax restr...  \n34  Do you think your company has a good onboardin...  \n35  Are you a member of any other online developer...  \n36  How often do you work overtime or beyond the f...  \n37  When buying a new tool or software, how do you...  \n38  You search for a coding solution online and th...  \n39  Which of the following Stack Overflow sites ha...  \n40  What do you do when you get stuck on a problem...  \n41  What is the primary operating system in which ...  \n42  Approximately how many people are employed by ...  \n43  Which platforms have you done extensive develo...  \n44  Which platforms have you done extensive develo...  \n45  What level of influence do you, personally, ha...  \n46  Which of the following describe you, if any? P...  \n47              Do you have a Stack Overflow account?  \n48  Do you consider yourself a member of the Stack...  \n49  How frequently would you say you participate i...  \n50  How frequently would you say you visit Stack O...  \n51  How easy or difficult was this survey to compl...  \n52  How do you feel about the length of the survey...  \n53                               Are you transgender?  \n54              What was your primary field of study?  \n55  Which web frameworks have you done extensive d...  \n56  Which web frameworks have you done extensive d...  \n57  Compared to last year, how welcome do you feel...  \n58  On average, how many hours per week do you wor...  \n59  Including any education, how many years have y...  \n60  NOT including education, how many years have y...  ",
      "text/html": "<div>\n<style scoped>\n    .dataframe tbody tr th:only-of-type {\n        vertical-align: middle;\n    }\n\n    .dataframe tbody tr th {\n        vertical-align: top;\n    }\n\n    .dataframe thead th {\n        text-align: right;\n    }\n</style>\n<table border=\"1\" class=\"dataframe\">\n  <thead>\n    <tr style=\"text-align: right;\">\n      <th></th>\n      <th>Column</th>\n      <th>QuestionText</th>\n    </tr>\n  </thead>\n  <tbody>\n    <tr>\n      <th>0</th>\n      <td>Respondent</td>\n      <td>Randomized respondent ID number (not in order ...</td>\n    </tr>\n    <tr>\n      <th>1</th>\n      <td>MainBranch</td>\n      <td>Which of the following options best describes ...</td>\n    </tr>\n    <tr>\n      <th>2</th>\n      <td>Hobbyist</td>\n      <td>Do you code as a hobby?</td>\n    </tr>\n    <tr>\n      <th>3</th>\n      <td>Age</td>\n      <td>What is your age (in years)? If you prefer not...</td>\n    </tr>\n    <tr>\n      <th>4</th>\n      <td>Age1stCode</td>\n      <td>At what age did you write your first line of c...</td>\n    </tr>\n    <tr>\n      <th>5</th>\n      <td>CompFreq</td>\n      <td>Is that compensation weekly, monthly, or yearly?</td>\n    </tr>\n    <tr>\n      <th>6</th>\n      <td>CompTotal</td>\n      <td>What is your current total compensation (salar...</td>\n    </tr>\n    <tr>\n      <th>7</th>\n      <td>ConvertedComp</td>\n      <td>Salary converted to annual USD salaries using ...</td>\n    </tr>\n    <tr>\n      <th>8</th>\n      <td>Country</td>\n      <td>Where do you live?</td>\n    </tr>\n    <tr>\n      <th>9</th>\n      <td>CurrencyDesc</td>\n      <td>Which currency do you use day-to-day? If your ...</td>\n    </tr>\n    <tr>\n      <th>10</th>\n      <td>CurrencySymbol</td>\n      <td>Which currency do you use day-to-day? If your ...</td>\n    </tr>\n    <tr>\n      <th>11</th>\n      <td>DatabaseDesireNextYear</td>\n      <td>Which database environments have you done exte...</td>\n    </tr>\n    <tr>\n      <th>12</th>\n      <td>DatabaseWorkedWith</td>\n      <td>Which database environments have you done exte...</td>\n    </tr>\n    <tr>\n      <th>13</th>\n      <td>DevType</td>\n      <td>Which of the following describe you? Please se...</td>\n    </tr>\n    <tr>\n      <th>14</th>\n      <td>EdLevel</td>\n      <td>Which of the following best describes the high...</td>\n    </tr>\n    <tr>\n      <th>15</th>\n      <td>Employment</td>\n      <td>Which of the following best describes your cur...</td>\n    </tr>\n    <tr>\n      <th>16</th>\n      <td>Ethnicity</td>\n      <td>Which of the following describe you, if any? P...</td>\n    </tr>\n    <tr>\n      <th>17</th>\n      <td>Gender</td>\n      <td>Which of the following describe you, if any? P...</td>\n    </tr>\n    <tr>\n      <th>18</th>\n      <td>JobFactors</td>\n      <td>Imagine that you are deciding between two job ...</td>\n    </tr>\n    <tr>\n      <th>19</th>\n      <td>JobSat</td>\n      <td>How satisfied are you with your current job? (...</td>\n    </tr>\n    <tr>\n      <th>20</th>\n      <td>JobSeek</td>\n      <td>Which of the following best describes your cur...</td>\n    </tr>\n    <tr>\n      <th>21</th>\n      <td>LanguageDesireNextYear</td>\n      <td>Which programming, scripting, and markup langu...</td>\n    </tr>\n    <tr>\n      <th>22</th>\n      <td>LanguageWorkedWith</td>\n      <td>Which programming, scripting, and markup langu...</td>\n    </tr>\n    <tr>\n      <th>23</th>\n      <td>MiscTechDesireNextYear</td>\n      <td>Which other frameworks, libraries, and tools h...</td>\n    </tr>\n    <tr>\n      <th>24</th>\n      <td>MiscTechWorkedWith</td>\n      <td>Which other frameworks, libraries, and tools h...</td>\n    </tr>\n    <tr>\n      <th>25</th>\n      <td>NEWCollabToolsDesireNextYear</td>\n      <td>Which collaboration tools have you done extens...</td>\n    </tr>\n    <tr>\n      <th>26</th>\n      <td>NEWCollabToolsWorkedWith</td>\n      <td>Which collaboration tools have you done extens...</td>\n    </tr>\n    <tr>\n      <th>27</th>\n      <td>NEWDevOps</td>\n      <td>Does your company have a dedicated DevOps person?</td>\n    </tr>\n    <tr>\n      <th>28</th>\n      <td>NEWDevOpsImpt</td>\n      <td>How important is the practice of DevOps to sca...</td>\n    </tr>\n    <tr>\n      <th>29</th>\n      <td>NEWEdImpt</td>\n      <td>How important is a formal education, such as a...</td>\n    </tr>\n    <tr>\n      <th>30</th>\n      <td>NEWJobHunt</td>\n      <td>In general, what drives you to look for a new ...</td>\n    </tr>\n    <tr>\n      <th>31</th>\n      <td>NEWJobHuntResearch</td>\n      <td>When job searching, how do you learn more abou...</td>\n    </tr>\n    <tr>\n      <th>32</th>\n      <td>NEWLearn</td>\n      <td>How frequently do you learn a new language or ...</td>\n    </tr>\n    <tr>\n      <th>33</th>\n      <td>NEWOffTopic</td>\n      <td>Do you think Stack Overflow should relax restr...</td>\n    </tr>\n    <tr>\n      <th>34</th>\n      <td>NEWOnboardGood</td>\n      <td>Do you think your company has a good onboardin...</td>\n    </tr>\n    <tr>\n      <th>35</th>\n      <td>NEWOtherComms</td>\n      <td>Are you a member of any other online developer...</td>\n    </tr>\n    <tr>\n      <th>36</th>\n      <td>NEWOvertime</td>\n      <td>How often do you work overtime or beyond the f...</td>\n    </tr>\n    <tr>\n      <th>37</th>\n      <td>NEWPurchaseResearch</td>\n      <td>When buying a new tool or software, how do you...</td>\n    </tr>\n    <tr>\n      <th>38</th>\n      <td>NEWPurpleLink</td>\n      <td>You search for a coding solution online and th...</td>\n    </tr>\n    <tr>\n      <th>39</th>\n      <td>NEWSOSites</td>\n      <td>Which of the following Stack Overflow sites ha...</td>\n    </tr>\n    <tr>\n      <th>40</th>\n      <td>NEWStuck</td>\n      <td>What do you do when you get stuck on a problem...</td>\n    </tr>\n    <tr>\n      <th>41</th>\n      <td>OpSys</td>\n      <td>What is the primary operating system in which ...</td>\n    </tr>\n    <tr>\n      <th>42</th>\n      <td>OrgSize</td>\n      <td>Approximately how many people are employed by ...</td>\n    </tr>\n    <tr>\n      <th>43</th>\n      <td>PlatformDesireNextYear</td>\n      <td>Which platforms have you done extensive develo...</td>\n    </tr>\n    <tr>\n      <th>44</th>\n      <td>PlatformWorkedWith</td>\n      <td>Which platforms have you done extensive develo...</td>\n    </tr>\n    <tr>\n      <th>45</th>\n      <td>PurchaseWhat</td>\n      <td>What level of influence do you, personally, ha...</td>\n    </tr>\n    <tr>\n      <th>46</th>\n      <td>Sexuality</td>\n      <td>Which of the following describe you, if any? P...</td>\n    </tr>\n    <tr>\n      <th>47</th>\n      <td>SOAccount</td>\n      <td>Do you have a Stack Overflow account?</td>\n    </tr>\n    <tr>\n      <th>48</th>\n      <td>SOComm</td>\n      <td>Do you consider yourself a member of the Stack...</td>\n    </tr>\n    <tr>\n      <th>49</th>\n      <td>SOPartFreq</td>\n      <td>How frequently would you say you participate i...</td>\n    </tr>\n    <tr>\n      <th>50</th>\n      <td>SOVisitFreq</td>\n      <td>How frequently would you say you visit Stack O...</td>\n    </tr>\n    <tr>\n      <th>51</th>\n      <td>SurveyEase</td>\n      <td>How easy or difficult was this survey to compl...</td>\n    </tr>\n    <tr>\n      <th>52</th>\n      <td>SurveyLength</td>\n      <td>How do you feel about the length of the survey...</td>\n    </tr>\n    <tr>\n      <th>53</th>\n      <td>Trans</td>\n      <td>Are you transgender?</td>\n    </tr>\n    <tr>\n      <th>54</th>\n      <td>UndergradMajor</td>\n      <td>What was your primary field of study?</td>\n    </tr>\n    <tr>\n      <th>55</th>\n      <td>WebframeDesireNextYear</td>\n      <td>Which web frameworks have you done extensive d...</td>\n    </tr>\n    <tr>\n      <th>56</th>\n      <td>WebframeWorkedWith</td>\n      <td>Which web frameworks have you done extensive d...</td>\n    </tr>\n    <tr>\n      <th>57</th>\n      <td>WelcomeChange</td>\n      <td>Compared to last year, how welcome do you feel...</td>\n    </tr>\n    <tr>\n      <th>58</th>\n      <td>WorkWeekHrs</td>\n      <td>On average, how many hours per week do you wor...</td>\n    </tr>\n    <tr>\n      <th>59</th>\n      <td>YearsCode</td>\n      <td>Including any education, how many years have y...</td>\n    </tr>\n    <tr>\n      <th>60</th>\n      <td>YearsCodePro</td>\n      <td>NOT including education, how many years have y...</td>\n    </tr>\n  </tbody>\n</table>\n</div>"
     },
     "metadata": {},
     "execution_count": 59
    }
   ],
   "source": [
    "schema_df = pd.read_csv('stack\\survey_results_schema.csv')\n",
    "# pd.set_option('display.max_row', 61)\n",
    "# here i used display.ax_row in set_option because the column details of survey-result_public stored in row of survey-result_chema\n",
    "schema_df"
   ]
  },
  {
   "cell_type": "code",
   "execution_count": null,
   "metadata": {},
   "outputs": [],
   "source": []
  }
 ]
}