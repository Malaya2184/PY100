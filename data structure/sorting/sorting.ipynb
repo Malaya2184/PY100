{
 "metadata": {
  "language_info": {
   "codemirror_mode": {
    "name": "ipython",
    "version": 3
   },
   "file_extension": ".py",
   "mimetype": "text/x-python",
   "name": "python",
   "nbconvert_exporter": "python",
   "pygments_lexer": "ipython3",
   "version": "3.8.3-final"
  },
  "orig_nbformat": 2,
  "kernelspec": {
   "name": "python3",
   "display_name": "Python 3"
  }
 },
 "nbformat": 4,
 "nbformat_minor": 2,
 "cells": [
  {
   "cell_type": "code",
   "execution_count": 1,
   "metadata": {},
   "outputs": [],
   "source": [
    "# selection shot algorithm\n",
    "def selection_sort(list):\n",
    "    for i in range(len(list)):\n",
    "        min_index = i\n",
    "        for j in range(i+1, len(list)):\n",
    "            if list[min_index]>list[j]:\n",
    "                min_index= j\n",
    "\n",
    "        list[i],list[min_index]=list[min_index], list[i]\n",
    "    return list\n",
    "\n",
    "# TODO: It is not an efficent program for the solution\n",
    "# quickshot algorithm\n",
    "def quick_short(list):\n",
    "    length_of_list = len(list)\n",
    "    if length_of_list <= 1:\n",
    "        return list\n",
    "    else:\n",
    "        pivot = list.pop()\n",
    "        \n",
    "    pivot_grearer =[]\n",
    "    pivot_smaller =[]\n",
    "    for i in list:\n",
    "        if i > pivot:\n",
    "            pivot_grearer.append(i)\n",
    "        else:\n",
    "            pivot_smaller.append(i)\n",
    "    return quick_short(pivot_smaller) + [pivot] + quick_short(pivot_grearer)\n",
    "# Bubble sort algorithm\n",
    "def bubble_sort(list):\n",
    "    iteration_length = len(list) - 1\n",
    "    sorted = False\n",
    "\n",
    "    while not sorted:\n",
    "        sorted = True\n",
    "\n",
    "        for i in range(iteration_length):\n",
    "            if list[i] > list[i+1]:\n",
    "                sorted = False\n",
    "                list[i], list[i+1] = list[i+1], list[i]\n",
    "\n",
    "    return list\n",
    "\n",
    "# insertion shot algorithm\n",
    "def insertion_sort(list):\n",
    "    for i in range(1, len(list)):\n",
    "        while list[i-1] > list[i] and i>0:\n",
    "            list[i-1],list[i] = list[i], list[i-1]\n",
    "            i = i-1\n",
    "    \n",
    "    return list"
   ]
  },
  {
   "cell_type": "code",
   "execution_count": 2,
   "metadata": {},
   "outputs": [
    {
     "output_type": "stream",
     "name": "stdout",
     "text": [
      "[0, 1, 2, 2, 3, 3, 4, 5, 5, 7, 8, 31, 67, 90, 567]\n[0, 1, 2, 2, 3, 3, 4, 5, 5, 7, 8, 31, 67, 90, 567]\n[0, 1, 2, 2, 3, 3, 4, 5, 5, 7, 8, 31, 67, 90, 567]\n[0, 1, 2, 2, 3, 3, 4, 5, 5, 7, 8, 31, 67, 90, 567]\n"
     ]
    }
   ],
   "source": [
    "#####################################################################\n",
    "# list = [3,4,5,1,2,3,0,7,8,90,67,31,2,5,567]\n",
    "print(selection_sort([3,4,5,1,2,3,0,7,8,90,67,31,2,5,567]))\n",
    "print(quick_short([3,4,5,1,2,3,0,7,8,90,67,31,2,5,567]))\n",
    "print(bubble_sort([3,4,5,1,2,3,0,7,8,90,67,31,2,5,567]))\n",
    "print(insertion_sort([3,4,5,1,2,3,0,7,8,90,67,31,2,5,567]))"
   ]
  }
 ]
}