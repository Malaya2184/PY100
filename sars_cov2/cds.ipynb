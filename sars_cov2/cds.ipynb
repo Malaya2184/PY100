{
 "metadata": {
  "language_info": {
   "codemirror_mode": {
    "name": "ipython",
    "version": 3
   },
   "file_extension": ".py",
   "mimetype": "text/x-python",
   "name": "python",
   "nbconvert_exporter": "python",
   "pygments_lexer": "ipython3",
   "version": "3.8.3-final"
  },
  "orig_nbformat": 2,
  "kernelspec": {
   "name": "python3",
   "display_name": "Python 3",
   "language": "python"
  }
 },
 "nbformat": 4,
 "nbformat_minor": 2,
 "cells": [
  {
   "cell_type": "code",
   "execution_count": 22,
   "metadata": {},
   "outputs": [],
   "source": [
    "# function used to translate to aminoacid from DNA sequence\n",
    "def DNA_translation(codingSequences):\n",
    "    stop_codons ={  'TTT':'F','TTC':'F','TTA':'L','TTG':'L',\n",
    "                    'CTT':'L','CTC':'L','CTA':'L','CTG':'L',\n",
    "                    'ATT':'I','ATC':'I','ATA':'I','ATG':'M',\n",
    "                    'GTT':'V','GTC':'V','GTA':'V','GTG':'V',\n",
    "                    'TCT':'S','TCC':'S','TCA':'S','TCG':'S',\n",
    "                    'CCT':'P','CCC':'P','CCA':'P','CCG':'P',\n",
    "                    'ACT':'T','ACC':'T','ACA':'T','ACG':'T',\n",
    "                    'GCT':'A','GCC':'A','GCA':'A','GCG':'A',\n",
    "                    'TAT':'Y','TAC':'Y','TAA':'*','TAG':'*',\n",
    "                    'CAT':'H','CAC':'H','CAA':'Q','CAG':'Q',\n",
    "                    'AAT':'N','AAC':'N','AAA':'K','AAG':'K',\n",
    "                    'GAT':'D','GAC':'D','GAA':'E','GAG':'E',\n",
    "                    'TGT':'C','TGC':'C','TGA':'*','TGG':'W',\n",
    "                    'CGT':'R','CGC':'R','CGA':'R','CGG':'R',\n",
    "                    'AGT':'S','AGC':'S','AGA':'R','AGG':'R',\n",
    "                    'GGT':'G','GGC':'G','GGA':'G','GGG':'G'}\n",
    "    Protein_sequence = \"\"\n",
    "    for i in range(0,len(codingSequences),3):\n",
    "        Protein_sequence += stop_codons[codingSequences[i:i+3]]\n",
    "    return Protein_sequence"
   ]
  },
  {
   "cell_type": "code",
   "execution_count": 23,
   "metadata": {},
   "outputs": [],
   "source": [
    "# Filehandling\n",
    "sequence_FileName = \"sequence.fasta\"\n",
    "annotation_FileName = \"GCF_009858895.2_ASM985889v3_genomic.gff\"\n",
    "sequence_FileHandle = open(sequence_FileName,'r')\n",
    "annotation_FileHandle = open(annotation_FileName,'r')"
   ]
  },
  {
   "cell_type": "code",
   "execution_count": 24,
   "metadata": {},
   "outputs": [],
   "source": [
    "#genome into a string convertion from data set\n",
    "genome_sequence_string = \"\"\n",
    "# I took i= 0 to drop the first line from the data set i.e sequence.fasta because it is not needed in our program\n",
    "i = 0\n",
    "for line in sequence_FileHandle:\n",
    "    if(i!=0):\n",
    "        line = line.strip()\n",
    "        genome_sequence_string+=line\n",
    "    i+=1\n",
    "\n",
    "protein_fhand = open(\"protein_CDS.csv\",'w')\n",
    "# Selecting the CDS sequences from the genome.\n",
    "for line in annotation_FileHandle:\n",
    "    if line[0] != '#':\n",
    "        codingSequences = \"\"\n",
    "        Protein_sequence = \"\"\n",
    "        information_list = line.split()\n",
    "        if information_list[2] == 'CDS':\n",
    "            codingSequences = genome_sequence_string[int(information_list[3])+1:int(information_list[4])+2]\n",
    "            Protein_sequence = DNA_translation(codingSequences)\n",
    "\n",
    "            prot_id = information_list[8].split(\";\") #ProtID of the protein\n",
    "\n",
    "            # Writing onto the fasta file\n",
    "            protein_fhand.write('===>'+ prot_id[0]+'\\n'+ '-------------------------------\\n' +Protein_sequence+'\\n\\n\\n\\n')\n",
    "\n",
    "annotation_FileHandle.close()\n",
    "sequence_FileHandle.close()\n",
    "protein_fhand.close()"
   ]
  }
 ]
}