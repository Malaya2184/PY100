{
 "metadata": {
  "language_info": {
   "codemirror_mode": {
    "name": "ipython",
    "version": 3
   },
   "file_extension": ".py",
   "mimetype": "text/x-python",
   "name": "python",
   "nbconvert_exporter": "python",
   "pygments_lexer": "ipython3",
   "version": "3.8.3-final"
  },
  "orig_nbformat": 2,
  "kernelspec": {
   "name": "python3",
   "display_name": "Python 3"
  }
 },
 "nbformat": 4,
 "nbformat_minor": 2,
 "cells": [
  {
   "cell_type": "code",
   "execution_count": 40,
   "metadata": {
    "tags": []
   },
   "outputs": [],
   "source": [
    "# printing of the sudoku board to the console\n",
    "# import numpy as np\n",
    "board = [\n",
    "    [7,8,0,4,0,0,1,2,0],\n",
    "    [6,0,0,0,7,5,0,0,9],\n",
    "    [0,0,0,6,0,1,0,7,8],\n",
    "    [0,0,7,0,4,0,2,6,0],\n",
    "    [0,0,1,0,5,0,9,3,0],\n",
    "    [9,0,4,0,6,0,0,0,5],\n",
    "    [0,7,0,3,0,0,0,1,2],\n",
    "    [1,2,0,0,0,7,4,0,0],\n",
    "    [0,4,9,2,0,6,0,0,7]\n",
    "]\n",
    "# print(np.matrix(board))\n",
    "# print(len(board))\n",
    "def print_board(bo):\n",
    "    \n",
    "    for i in range(len(bo)):\n",
    "        if i % 3 == 0 and  i !=0:\n",
    "            print('- - - - - - - - - - -')\n",
    "\n",
    "        for  j in range(len(bo)):\n",
    "            if j % 3 == 0 and j !=0:\n",
    "                print('|', end=\" \")\n",
    "            if j == 8:\n",
    "                print(bo[i][j])\n",
    "            else:\n",
    "                print(bo[i][j], end=\" \")"
   ]
  },
  {
   "cell_type": "code",
   "execution_count": 41,
   "metadata": {
    "tags": []
   },
   "outputs": [
    {
     "output_type": "stream",
     "name": "stdout",
     "text": "7 8 0 | 4 0 0 | 1 2 0\n6 0 0 | 0 7 5 | 0 0 9\n0 0 0 | 6 0 1 | 0 7 8\n- - - - - - - - - - -\n0 0 7 | 0 4 0 | 2 6 0\n0 0 1 | 0 5 0 | 9 3 0\n9 0 4 | 0 6 0 | 0 0 5\n- - - - - - - - - - -\n0 7 0 | 3 0 0 | 0 1 2\n1 2 0 | 0 0 7 | 4 0 0\n0 4 9 | 2 0 6 | 0 0 7\n"
    }
   ],
   "source": [
    "print_board(board)"
   ]
  },
  {
   "cell_type": "code",
   "execution_count": 8,
   "metadata": {
    "tags": []
   },
   "outputs": [],
   "source": [
    "def find_empty(bo):\n",
    "    empty = []\n",
    "    for i in range(len(bo)):\n",
    "        for j in range(len(bo)):\n",
    "            if bo[i][j] == 0:\n",
    "                return (i,j)\n",
    "\n",
    "    # to see the empty positions in the board\n",
    "    #             empty.append([i,j])\n",
    "    # return empty\n",
    "                \n",
    "\n",
    "\n",
    "# print(find_empty(board))\n"
   ]
  },
  {
   "cell_type": "code",
   "execution_count": 57,
   "metadata": {},
   "outputs": [],
   "source": [
    "def valid(bo, x , y , num):\n",
    "    for i in range(len(bo)):\n",
    "        if bo[x][i] == num:\n",
    "            return False\n",
    "        if bo[i][y] == num:\n",
    "            return False\n",
    "\n",
    "    x0_box = (x//3)*3\n",
    "    y0_box = (y//3)*3\n",
    "    for i in range(0,3):\n",
    "        for j in range(0,3):\n",
    "            if bo[x0_box+i][y0_box+j] == num:\n",
    "                return False\n",
    "\n",
    "    return True"
   ]
  },
  {
   "cell_type": "code",
   "execution_count": 65,
   "metadata": {},
   "outputs": [
    {
     "output_type": "execute_result",
     "data": {
      "text/plain": "False"
     },
     "metadata": {},
     "execution_count": 65
    }
   ],
   "source": [
    "valid(board, 0, 2, 2 )"
   ]
  },
  {
   "cell_type": "code",
   "execution_count": null,
   "metadata": {},
   "outputs": [],
   "source": []
  }
 ]
}