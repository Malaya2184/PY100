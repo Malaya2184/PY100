{
 "cells": [
  {
   "cell_type": "code",
   "execution_count": 37,
   "metadata": {},
   "outputs": [
    {
     "name": "stdout",
     "output_type": "stream",
     "text": [
      "{}\n"
     ]
    }
   ],
   "source": [
    "# use of dict() function to create a dictonary\n",
    "student = dict()\n",
    "print(student)"
   ]
  },
  {
   "cell_type": "code",
   "execution_count": 38,
   "metadata": {},
   "outputs": [
    {
     "name": "stdout",
     "output_type": "stream",
     "text": [
      "{'ram': '01', 'sam': '02'}\n",
      "01\n",
      "02\n",
      "dict_keys(['ram', 'sam'])\n",
      "dict_values(['01', '02'])\n",
      "01\n"
     ]
    }
   ],
   "source": [
    "student = dict(ram='01', sam='02')\n",
    "print(student)\n",
    "type(student)\n",
    "print(student['ram'])\n",
    "print(student['sam'])\n",
    "\n",
    "# some methods to use to acess dictonary\n",
    "print(student.keys())\n",
    "print(student.values())\n",
    "print(student.get('ram'))"
   ]
  },
  {
   "cell_type": "code",
   "execution_count": 39,
   "metadata": {},
   "outputs": [
    {
     "name": "stdout",
     "output_type": "stream",
     "text": [
      "ram\n",
      "sam\n",
      "dam\n",
      "01\n",
      "02\n",
      "03\n"
     ]
    }
   ],
   "source": [
    "# for loop implementation in dictonary\n",
    "student = dict(ram='01', sam='02',dam = '03')\n",
    "\n",
    "for key in student.keys():\n",
    "    print(key)\n",
    "for val in student.values():\n",
    "    print(val)\n"
   ]
  },
  {
   "cell_type": "code",
   "execution_count": 40,
   "metadata": {},
   "outputs": [
    {
     "name": "stdout",
     "output_type": "stream",
     "text": [
      "['Ralph', 'Betty', 'Joey']\n",
      "Ralph\n",
      "Betty\n",
      "Joey\n"
     ]
    }
   ],
   "source": [
    "person = {'fname': 'Joe', 'lname': 'Fonebone', 'age': 51, 'spouse': 'Edna',\n",
    "'children': ['Ralph', 'Betty', 'Joey'], 'pets': {'dog': 'Fido', 'cat': 'Sox'}}\n",
    "\n",
    "print(person['children'])\n",
    "\n",
    "for i in person['children']:\n",
    "    print(i)"
   ]
  },
  {
   "cell_type": "code",
   "execution_count": 41,
   "metadata": {},
   "outputs": [
    {
     "data": {
      "text/plain": [
       "-2893740359697108007"
      ]
     },
     "execution_count": 41,
     "metadata": {},
     "output_type": "execute_result"
    }
   ],
   "source": [
    "hash('malaya')"
   ]
  },
  {
   "cell_type": "code",
   "execution_count": 42,
   "metadata": {},
   "outputs": [
    {
     "ename": "TypeError",
     "evalue": "unhashable type: 'list'",
     "output_type": "error",
     "traceback": [
      "\u001b[1;31m---------------------------------------------------------------------------\u001b[0m",
      "\u001b[1;31mTypeError\u001b[0m                                 Traceback (most recent call last)",
      "\u001b[1;32m<ipython-input-42-3c66059e4122>\u001b[0m in \u001b[0;36m<module>\u001b[1;34m\u001b[0m\n\u001b[0;32m      1\u001b[0m \u001b[1;31m# list are not hashable\u001b[0m\u001b[1;33m\u001b[0m\u001b[1;33m\u001b[0m\u001b[1;33m\u001b[0m\u001b[0m\n\u001b[1;32m----> 2\u001b[1;33m \u001b[0mhash\u001b[0m\u001b[1;33m(\u001b[0m\u001b[1;33m[\u001b[0m\u001b[1;36m1\u001b[0m\u001b[1;33m,\u001b[0m\u001b[1;36m2\u001b[0m\u001b[1;33m,\u001b[0m\u001b[1;36m3\u001b[0m\u001b[1;33m]\u001b[0m\u001b[1;33m)\u001b[0m\u001b[1;33m\u001b[0m\u001b[1;33m\u001b[0m\u001b[0m\n\u001b[0m",
      "\u001b[1;31mTypeError\u001b[0m: unhashable type: 'list'"
     ]
    }
   ],
   "source": [
    "# list are not hashable\n",
    "hash([1,2,3])"
   ]
  },
  {
   "cell_type": "code",
   "execution_count": null,
   "metadata": {},
   "outputs": [
    {
     "name": "stdout",
     "output_type": "stream",
     "text": [
      "dict_items([('a', 10), ('b', 20), ('c', 30)])\n",
      "{'a': 10, 'c': 30}\n",
      "{'a': 10}\n",
      "{}\n",
      "{'a': 10, 'b': 200, 'c': 30, 'd': 4}\n"
     ]
    }
   ],
   "source": [
    "#  clear() builtin method , items(), pop(), popitem(), update()\n",
    "d = {'a': 10, 'b': 20, 'c': 30}\n",
    "print(d.items())\n",
    "# to pop selected\n",
    "d.pop('b',20)\n",
    "print(d)\n",
    "# to pop last\n",
    "d.popitem()\n",
    "print(d)\n",
    "d.clear()\n",
    "print(d)\n",
    "d1 = {'a': 10, 'b': 20, 'c': 30}\n",
    "d2 = {'b': 200, 'd': 4}\n",
    "# update the existing key and create the new key and add to the d1\n",
    "d1.update(d2)\n",
    "print(d1)"
   ]
  },
  {
   "cell_type": "code",
   "execution_count": null,
   "metadata": {},
   "outputs": [
    {
     "data": {
      "text/plain": [
       "{'a': 10, 'b': 200, 'c': 30, 'd': 400}"
      ]
     },
     "execution_count": 48,
     "metadata": {},
     "output_type": "execute_result"
    }
   ],
   "source": [
    "d1 = {'a': 10, 'b': 20, 'c': 30}\n",
    "d1.update([('b', 200), ('d', 400)])\n",
    "d1"
   ]
  },
  {
   "cell_type": "code",
   "execution_count": null,
   "metadata": {},
   "outputs": [
    {
     "data": {
      "text/plain": [
       "{'a': 10, 'b': 200, 'c': 30, 'd': 400}"
      ]
     },
     "execution_count": 50,
     "metadata": {},
     "output_type": "execute_result"
    }
   ],
   "source": [
    "d1 = {'a': 10, 'b': 20, 'c': 30}\n",
    "d1.update(b=200, d=400)\n",
    "d1"
   ]
  },
  {
   "cell_type": "code",
   "execution_count": null,
   "metadata": {},
   "outputs": [
    {
     "name": "stdout",
     "output_type": "stream",
     "text": [
      "{1: 1, 2: 2, 3: 3, 4: 4, 5: 5, 6: 6, 7: 7, 8: 8, 9: 9}\n",
      "dict_keys([1, 2, 3, 4, 5, 6, 7, 8, 9])\n",
      "[1, 2, 3, 4, 5, 6, 7, 8, 9]\n"
     ]
    }
   ],
   "source": [
    "# find unique elements in a arr using hashmapping\n",
    "\n",
    "# here hahmap is used because keys are always unique in hashmap\n",
    "arr = [1,2,3,4,5,6,7,8,9,8,7,6,5,8]\n",
    "myhash = {}\n",
    "uniqe = []\n",
    "for i in arr:\n",
    "    if i not in  myhash.keys():\n",
    "        myhash[i] = i\n",
    "        uniqe.append(i)\n",
    "        \n",
    "print(myhash)\n",
    "print(myhash.keys())\n",
    "print(uniqe)\n",
    "\n",
    "        "
   ]
  }
 ],
 "metadata": {
  "kernelspec": {
   "display_name": "Python 3.9.0 64-bit",
   "language": "python",
   "name": "python3"
  },
  "language_info": {
   "codemirror_mode": {
    "name": "ipython",
    "version": 3
   },
   "file_extension": ".py",
   "mimetype": "text/x-python",
   "name": "python",
   "nbconvert_exporter": "python",
   "pygments_lexer": "ipython3",
   "version": "3.9.0"
  },
  "orig_nbformat": 4,
  "vscode": {
   "interpreter": {
    "hash": "81794d4967e6c3204c66dcd87b604927b115b27c00565d3d43f05ba2f3a2cb0d"
   }
  }
 },
 "nbformat": 4,
 "nbformat_minor": 2
}
